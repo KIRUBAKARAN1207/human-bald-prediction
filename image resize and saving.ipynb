{
 "cells": [
  {
   "cell_type": "code",
   "execution_count": 1,
   "id": "ef3421cb",
   "metadata": {},
   "outputs": [],
   "source": [
    "import PIL,os\n",
    "from skimage import color\n",
    "from skimage import io"
   ]
  },
  {
   "cell_type": "code",
   "execution_count": 2,
   "id": "e0c4a2e4",
   "metadata": {},
   "outputs": [],
   "source": [
    "from PIL import Image"
   ]
  },
  {
   "cell_type": "code",
   "execution_count": 42,
   "id": "b5bccc7a",
   "metadata": {},
   "outputs": [],
   "source": [
    "path1 = os.path.join(r'C:\\Users\\KIRUBA KARAN\\Desktop\\python\\01.capstone project2\\train\\bald')\n",
    "path2 = os.path.join(r'C:\\Users\\KIRUBA KARAN\\Desktop\\python\\01.capstone project2\\train\\not bald')"
   ]
  },
  {
   "cell_type": "code",
   "execution_count": 43,
   "id": "1c9849bb",
   "metadata": {},
   "outputs": [],
   "source": [
    "files1 = os.listdir(path1)\n",
    "files2 = os.listdir(path2)"
   ]
  },
  {
   "cell_type": "code",
   "execution_count": 44,
   "id": "adf160f4",
   "metadata": {},
   "outputs": [],
   "source": [
    "import matplotlib.pyplot as plt\n",
    "from tensorflow.keras.preprocessing import image\n"
   ]
  },
  {
   "cell_type": "code",
   "execution_count": 45,
   "id": "670b0434",
   "metadata": {},
   "outputs": [],
   "source": [
    "for i in files1:\n",
    "    foo=image.load_img(r'C:\\Users\\KIRUBA KARAN\\Desktop\\python\\01.capstone project2\\train\\bald\\%s'%i,grayscale=True,color_mode = \"grayscale\")\n",
    "    foo = foo.resize((250,250),Image.ANTIALIAS)\n",
    "    foo.save(r\"C:\\Users\\KIRUBA KARAN\\Desktop\\python\\01.capstone project2\\resize image\\train\\bald\\image%s.jpg\"%i)\n",
    "    "
   ]
  },
  {
   "cell_type": "code",
   "execution_count": 46,
   "id": "a82d2259",
   "metadata": {},
   "outputs": [],
   "source": [
    "for i in files2:\n",
    "    foo=image.load_img(r'C:\\Users\\KIRUBA KARAN\\Desktop\\python\\01.capstone project2\\train\\not bald\\%s'%i,grayscale=True,color_mode = \"grayscale\")\n",
    "    foo = foo.resize((250,250),Image.ANTIALIAS)\n",
    "    foo.save(r\"C:\\Users\\KIRUBA KARAN\\Desktop\\python\\01.capstone project2\\resize image\\train\\nobald\\image%s.jpg\"%i)"
   ]
  },
  {
   "cell_type": "code",
   "execution_count": 47,
   "id": "d341c378",
   "metadata": {},
   "outputs": [],
   "source": [
    "path11 = os.path.join(r'C:\\Users\\KIRUBA KARAN\\Desktop\\python\\01.capstone project2\\validation\\bald')\n",
    "path21 = os.path.join(r'C:\\Users\\KIRUBA KARAN\\Desktop\\python\\01.capstone project2\\validation\\not bald')"
   ]
  },
  {
   "cell_type": "code",
   "execution_count": 48,
   "id": "f04cc0fb",
   "metadata": {},
   "outputs": [],
   "source": [
    "files11 = os.listdir(path11)\n",
    "files21 = os.listdir(path21)"
   ]
  },
  {
   "cell_type": "code",
   "execution_count": 49,
   "id": "a0798022",
   "metadata": {},
   "outputs": [],
   "source": [
    "for i in files11:\n",
    "    foo=image.load_img(r'C:\\Users\\KIRUBA KARAN\\Desktop\\python\\01.capstone project2\\validation\\bald\\%s'%i,grayscale=True,color_mode = \"grayscale\")\n",
    "    foo = foo.resize((250,250),Image.ANTIALIAS)\n",
    "    foo.save(r\"C:\\Users\\KIRUBA KARAN\\Desktop\\python\\01.capstone project2\\resize image\\valid\\bald\\image%s.jpg\"%i)\n",
    "    "
   ]
  },
  {
   "cell_type": "code",
   "execution_count": 50,
   "id": "2fac3101",
   "metadata": {},
   "outputs": [],
   "source": [
    "for i in files21:\n",
    "    foo=image.load_img(r'C:\\Users\\KIRUBA KARAN\\Desktop\\python\\01.capstone project2\\validation\\not bald\\%s'%i,grayscale=True,color_mode = \"grayscale\")\n",
    "    foo = foo.resize((250,250),Image.ANTIALIAS)\n",
    "    foo.save(r\"C:\\Users\\KIRUBA KARAN\\Desktop\\python\\01.capstone project2\\resize image\\valid\\nobald\\image%s.jpg\"%i)"
   ]
  },
  {
   "cell_type": "code",
   "execution_count": 51,
   "id": "b89e7c49",
   "metadata": {},
   "outputs": [],
   "source": [
    "path12 = os.path.join(r'C:\\Users\\KIRUBA KARAN\\Desktop\\python\\01.capstone project2\\test\\bald')\n",
    "path22 = os.path.join(r'C:\\Users\\KIRUBA KARAN\\Desktop\\python\\01.capstone project2\\test\\not bald')"
   ]
  },
  {
   "cell_type": "code",
   "execution_count": 52,
   "id": "d6ee84fa",
   "metadata": {},
   "outputs": [],
   "source": [
    "files12 = os.listdir(path12)\n",
    "files22 = os.listdir(path22)"
   ]
  },
  {
   "cell_type": "code",
   "execution_count": 53,
   "id": "3cab0e42",
   "metadata": {},
   "outputs": [],
   "source": [
    "for i in files12:\n",
    "    foo=image.load_img(r'C:\\Users\\KIRUBA KARAN\\Desktop\\python\\01.capstone project2\\test\\bald\\%s'%i,grayscale=True,color_mode = \"grayscale\")\n",
    "    foo = foo.resize((250,250),Image.ANTIALIAS)\n",
    "    foo.save(r\"C:\\Users\\KIRUBA KARAN\\Desktop\\python\\01.capstone project2\\resize image\\test\\bald\\image%s.jpg\"%i)"
   ]
  },
  {
   "cell_type": "code",
   "execution_count": 54,
   "id": "92118d3d",
   "metadata": {},
   "outputs": [],
   "source": [
    "for i in files22:\n",
    "    foo=image.load_img(r'C:\\Users\\KIRUBA KARAN\\Desktop\\python\\01.capstone project2\\test\\not bald\\%s'%i,grayscale=True,color_mode = \"grayscale\")\n",
    "    foo = foo.resize((250,250),Image.ANTIALIAS)\n",
    "    foo.save(r\"C:\\Users\\KIRUBA KARAN\\Desktop\\python\\01.capstone project2\\resize image\\test\\nobald\\image%s.jpg\"%i)"
   ]
  }
 ],
 "metadata": {
  "kernelspec": {
   "display_name": "Python 3 (ipykernel)",
   "language": "python",
   "name": "python3"
  },
  "language_info": {
   "codemirror_mode": {
    "name": "ipython",
    "version": 3
   },
   "file_extension": ".py",
   "mimetype": "text/x-python",
   "name": "python",
   "nbconvert_exporter": "python",
   "pygments_lexer": "ipython3",
   "version": "3.9.7"
  },
  "varInspector": {
   "cols": {
    "lenName": 16,
    "lenType": 16,
    "lenVar": 40
   },
   "kernels_config": {
    "python": {
     "delete_cmd_postfix": "",
     "delete_cmd_prefix": "del ",
     "library": "var_list.py",
     "varRefreshCmd": "print(var_dic_list())"
    },
    "r": {
     "delete_cmd_postfix": ") ",
     "delete_cmd_prefix": "rm(",
     "library": "var_list.r",
     "varRefreshCmd": "cat(var_dic_list()) "
    }
   },
   "types_to_exclude": [
    "module",
    "function",
    "builtin_function_or_method",
    "instance",
    "_Feature"
   ],
   "window_display": false
  }
 },
 "nbformat": 4,
 "nbformat_minor": 5
}
