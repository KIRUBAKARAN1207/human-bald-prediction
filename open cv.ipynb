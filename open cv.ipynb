{
 "cells": [
  {
   "cell_type": "markdown",
   "id": "ac25b045",
   "metadata": {},
   "source": [
    "# image capturing and classifing with openCV"
   ]
  },
  {
   "cell_type": "code",
   "execution_count": 4,
   "id": "f3b2d8db",
   "metadata": {},
   "outputs": [],
   "source": [
    "import os"
   ]
  },
  {
   "cell_type": "code",
   "execution_count": 12,
   "id": "789c75c0",
   "metadata": {},
   "outputs": [
    {
     "name": "stdout",
     "output_type": "stream",
     "text": [
      "1/1 [==============================] - 2s 2s/step\n",
      "bald\n",
      "1/1 [==============================] - 1s 521ms/step\n",
      "not bald\n",
      "1/1 [==============================] - 1s 647ms/step\n",
      "not bald\n",
      "1/1 [==============================] - 0s 336ms/step\n",
      "not bald\n",
      "1/1 [==============================] - 1s 747ms/step\n",
      "not bald\n"
     ]
    },
    {
     "ename": "KeyboardInterrupt",
     "evalue": "",
     "output_type": "error",
     "traceback": [
      "\u001b[1;31m---------------------------------------------------------------------------\u001b[0m",
      "\u001b[1;31mKeyboardInterrupt\u001b[0m                         Traceback (most recent call last)",
      "Cell \u001b[1;32mIn [12], line 53\u001b[0m\n\u001b[0;32m     51\u001b[0m \u001b[38;5;66;03m# Show the image\u001b[39;00m\n\u001b[0;32m     52\u001b[0m cv2\u001b[38;5;241m.\u001b[39mimshow(\u001b[38;5;124m'\u001b[39m\u001b[38;5;124mLIVE\u001b[39m\u001b[38;5;124m'\u001b[39m,   im)\n\u001b[1;32m---> 53\u001b[0m key \u001b[38;5;241m=\u001b[39m cv2\u001b[38;5;241m.\u001b[39mwaitKey(\u001b[38;5;241m10\u001b[39m)\n\u001b[0;32m     54\u001b[0m \u001b[38;5;66;03m# if Esc key is press then break out of the loop \u001b[39;00m\n\u001b[0;32m     55\u001b[0m \u001b[38;5;28;01mif\u001b[39;00m key \u001b[38;5;241m==\u001b[39m \u001b[38;5;241m27\u001b[39m: \u001b[38;5;66;03m#The Esc key\u001b[39;00m\n",
      "\u001b[1;31mKeyboardInterrupt\u001b[0m: "
     ]
    }
   ],
   "source": [
    "import cv2\n",
    "import numpy as np\n",
    "from keras.models import load_model\n",
    "model=load_model(\"model_inception2/\")\n",
    "\n",
    "labels_dict={0:'bald',1:'notbald'}\n",
    "color_dict={0:(0,0,255),1:(0,255,0)}\n",
    "\n",
    "size = 4\n",
    "webcam = cv2.VideoCapture(0) #Use camera 0\n",
    "\n",
    "# We load the xml file\n",
    "classifier = cv2.CascadeClassifier (r\"C:\\Users\\KIRUBA KARAN\\OneDrive\\Desktop\\python\\01.capstone project2\\haarcascade_frontalface_alt.xml\")\n",
    "\n",
    "while True:\n",
    "    (rval, im) = webcam.read()\n",
    "    im=cv2.flip(im,1,1) #Flip to act as a mirror\n",
    "\n",
    "    # Resize the image to speed up detection\n",
    "    mini = cv2.resize(im, (im.shape[1] // size, im.shape[0] // size))\n",
    "\n",
    "    # detect MultiScale / faces \n",
    "    faces = classifier.detectMultiScale(mini)\n",
    "\n",
    "    # Draw rectangles around each face\n",
    "    for f in faces:\n",
    "        (x, y, w, h) = [v * size for v in f] #Scale the shapesize backup\n",
    "        #Save just the rectangle faces in SubRecFaces\n",
    "        face_img = im[y:y+h, x:x+w]\n",
    "        resized=cv2.resize(face_img,(224, 224))\n",
    "        normalized=resized/255.0\n",
    "        reshaped=np.reshape(normalized,(1,224, 224,3))\n",
    "        reshaped = np.vstack([reshaped])\n",
    "        result=model.predict(reshaped)\n",
    "                \n",
    "        label=np.argmax(result,axis=1)[0]\n",
    "        if label==0:\n",
    "            print(\"bald\")\n",
    "        else:\n",
    "            print('not bald')\n",
    "      \n",
    "        cv2.rectangle(im,(x,y),(x+w,y+h),color_dict[label],2)\n",
    "        cv2.rectangle(im,(x,y-40),(x+w,y),color_dict[label],-1)\n",
    "        cv2.putText(im, labels_dict[label], (x, y-10),cv2.FONT_HERSHEY_SIMPLEX,0.8,(255,255,255),2)\n",
    "        if label==0:\n",
    "            os.system(\"start \\\"\\\" https://www.vcaretrichology.com/landing/hair-transplant/TN/?utm_source=GA_Search_Transplant_Hair_CHN&utm_medium=GA_Search_Transplant_Hair_CHN&utm_campaign=GA_Search_Transplant_Hair_CHN&gclid=Cj0KCQjw39uYBhCLARIsAD_SzMQB3gUGLTxGxKS4A4Vp2ghTfIGG5RPb9VncHP0bRL5brah2R2gDmskaAvz_EALw_wcB\")\n",
    "        else:\n",
    "            os.system(\"start \\\"\\\" https://mamaearth.in/omg?utm_source=google&utm_medium=cpc&utm_term=141039106268&gclid=Cj0KCQjw39uYBhCLARIsAD_SzMQ4-pIXLEWFZCRFnAKt4OzYmEJpfVNrDndk010BBx9DtTpe6oQRA7saAtilEALw_wcB\") \n",
    "\n",
    "        \n",
    "    # Show the image\n",
    "    cv2.imshow('LIVE',   im)\n",
    "    key = cv2.waitKey(10)\n",
    "    # if Esc key is press then break out of the loop \n",
    "    if key == 27: #The Esc key\n",
    "        break\n",
    "\n",
    "# Stop video\n",
    "webcam.release()\n",
    "\n",
    "# Close all started windows\n",
    "cv2.destroyAllWindows()\n"
   ]
  },
  {
   "cell_type": "markdown",
   "id": "c0ae6133",
   "metadata": {},
   "source": [
    "# the image is classified and the webpage will open according to the clssified label"
   ]
  },
  {
   "cell_type": "code",
   "execution_count": 9,
   "id": "a332d4d8",
   "metadata": {},
   "outputs": [],
   "source": [
    "import os"
   ]
  },
  {
   "cell_type": "code",
   "execution_count": 10,
   "id": "6f750e3c",
   "metadata": {},
   "outputs": [],
   "source": [
    "if label==0:\n",
    "    os.system(\"start \\\"\\\" https://www.vcaretrichology.com/landing/hair-transplant/TN/?utm_source=GA_Search_Transplant_Hair_CHN&utm_medium=GA_Search_Transplant_Hair_CHN&utm_campaign=GA_Search_Transplant_Hair_CHN&gclid=Cj0KCQjw39uYBhCLARIsAD_SzMQB3gUGLTxGxKS4A4Vp2ghTfIGG5RPb9VncHP0bRL5brah2R2gDmskaAvz_EALw_wcB\")\n",
    "else:\n",
    "    os.system(\"start \\\"\\\" https://mamaearth.in/omg?utm_source=google&utm_medium=cpc&utm_term=141039106268&gclid=Cj0KCQjw39uYBhCLARIsAD_SzMQ4-pIXLEWFZCRFnAKt4OzYmEJpfVNrDndk010BBx9DtTpe6oQRA7saAtilEALw_wcB\") "
   ]
  },
  {
   "cell_type": "code",
   "execution_count": null,
   "id": "f66e4d46",
   "metadata": {},
   "outputs": [],
   "source": []
  }
 ],
 "metadata": {
  "kernelspec": {
   "display_name": "Python 3 (ipykernel)",
   "language": "python",
   "name": "python3"
  },
  "language_info": {
   "codemirror_mode": {
    "name": "ipython",
    "version": 3
   },
   "file_extension": ".py",
   "mimetype": "text/x-python",
   "name": "python",
   "nbconvert_exporter": "python",
   "pygments_lexer": "ipython3",
   "version": "3.9.7"
  },
  "varInspector": {
   "cols": {
    "lenName": 16,
    "lenType": 16,
    "lenVar": 40
   },
   "kernels_config": {
    "python": {
     "delete_cmd_postfix": "",
     "delete_cmd_prefix": "del ",
     "library": "var_list.py",
     "varRefreshCmd": "print(var_dic_list())"
    },
    "r": {
     "delete_cmd_postfix": ") ",
     "delete_cmd_prefix": "rm(",
     "library": "var_list.r",
     "varRefreshCmd": "cat(var_dic_list()) "
    }
   },
   "types_to_exclude": [
    "module",
    "function",
    "builtin_function_or_method",
    "instance",
    "_Feature"
   ],
   "window_display": false
  }
 },
 "nbformat": 4,
 "nbformat_minor": 5
}
